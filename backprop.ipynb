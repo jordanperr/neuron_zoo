{
 "cells": [
  {
   "cell_type": "code",
   "execution_count": 1,
   "metadata": {
    "collapsed": true
   },
   "outputs": [],
   "source": [
    "from matplotlib import pyplot as plt\n",
    "import numpy as np\n",
    "%matplotlib inline\n",
    "from ipywidgets import *\n",
    "\n",
    "def sigmoid(x):\n",
    "    return 1/(1+(np.exp(-x)))\n",
    "\n",
    "def sigmoid_prime(y):\n",
    "    return y*(1-y)\n",
    "\n",
    "f = sigmoid\n",
    "df = sigmoid_prime\n",
    "alpha = 0.001\n",
    "\n",
    "def forward(a,b,x):\n",
    "    return f(a*x + b)\n"
   ]
  },
  {
   "cell_type": "markdown",
   "metadata": {},
   "source": [
    "## Fitting heaviside around 1"
   ]
  },
  {
   "cell_type": "code",
   "execution_count": 2,
   "metadata": {},
   "outputs": [
    {
     "data": {
      "text/plain": [
       "<matplotlib.collections.PathCollection at 0x1096cd550>"
      ]
     },
     "execution_count": 2,
     "metadata": {},
     "output_type": "execute_result"
    },
    {
     "data": {
      "image/png": "[encoded data removed]",
      "text/plain": [
       "<matplotlib.figure.Figure at 0x108016a10>"
      ]
     },
     "metadata": {},
     "output_type": "display_data"
    }
   ],
   "source": [
    "# Set up input data\n",
    "my_data_x = np.linspace(-1,2,100)\n",
    "my_data_y = np.ones(100)\n",
    "my_data_y[:50] = 0\n",
    "\n",
    "plt.scatter(my_data_x, my_data_y)"
   ]
  },
  {
   "cell_type": "code",
   "execution_count": 3,
   "metadata": {},
   "outputs": [
    {
     "data": {
      "text/plain": [
       "<matplotlib.collections.PathCollection at 0x109672910>"
      ]
     },
     "execution_count": 3,
     "metadata": {},
     "output_type": "execute_result"
    },
    {
     "data": {
      "image/png": "[encoded data removed]",
      "text/plain": [
       "<matplotlib.figure.Figure at 0x109672950>"
      ]
     },
     "metadata": {},
     "output_type": "display_data"
    }
   ],
   "source": [
    "a = 1\n",
    "b = 0\n",
    "\n",
    "plt.scatter(my_data_x, my_data_y)\n",
    "plt.scatter(my_data_x, forward(a,b,my_data_x))"
   ]
  },
  {
   "cell_type": "code",
   "execution_count": 4,
   "metadata": {},
   "outputs": [
    {
     "name": "stdout",
     "output_type": "stream",
     "text": [
      "6.556964968662982\n",
      "15.147501548817166\n",
      "25.155583264712863\n",
      "30.35987601252062\n",
      "33.248912199480706\n",
      "35.03510524451909\n",
      "36.2333578514861\n",
      "37.08808850130191\n",
      "37.727162187785915\n",
      "38.22291421777283\n"
     ]
    },
    {
     "data": {
      "text/plain": [
       "<matplotlib.collections.PathCollection at 0x10965af90>"
      ]
     },
     "execution_count": 4,
     "metadata": {},
     "output_type": "execute_result"
    },
    {
     "data": {
      "image/png": "[encoded data removed]",
      "text/plain": [
       "<matplotlib.figure.Figure at 0x10965aa10>"
      ]
     },
     "metadata": {},
     "output_type": "display_data"
    }
   ],
   "source": [
    "\n",
    "for i in range(1000):\n",
    "\n",
    "    o = forward(a,b,my_data_x)\n",
    "\n",
    "    # Sum of half squares error function\n",
    "    e_tot = np.sum(1.0/2.0 * np.square(my_data_y - o))\n",
    "    if i%100 == 0: print e_tot\n",
    "\n",
    "    alpha = 0.1\n",
    "    beta_alpha = 0.01\n",
    "\n",
    "    da = alpha * np.sum(o * sigmoid_prime(o)) / len(o)\n",
    "    db = beta_alpha * np.sum(sigmoid_prime(o) * (my_data_y - o)) / len(o)\n",
    "\n",
    "    a -= da\n",
    "    b -= db\n",
    "\n",
    "    \n",
    "plt.scatter(my_data_x, my_data_y)\n",
    "plt.scatter(my_data_x, o)\n",
    "\n"
   ]
  },
  {
   "cell_type": "code",
   "execution_count": null,
   "metadata": {
    "collapsed": true
   },
   "outputs": [],
   "source": []
  },
  {
   "cell_type": "code",
   "execution_count": null,
   "metadata": {
    "collapsed": true
   },
   "outputs": [],
   "source": []
  }
 ],
 "metadata": {
  "kernelspec": {
   "display_name": "Python 2",
   "language": "python",
   "name": "python2"
  },
  "language_info": {
   "codemirror_mode": {
    "name": "ipython",
    "version": 2
   },
   "file_extension": ".py",
   "mimetype": "text/x-python",
   "name": "python",
   "nbconvert_exporter": "python",
   "pygments_lexer": "ipython2",
   "version": "2.7.13"
  }
 },
 "nbformat": 4,
 "nbformat_minor": 2
}
