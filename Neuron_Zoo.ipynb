{
 "cells": [
  {
   "cell_type": "code",
   "execution_count": 1,
   "metadata": {
    "collapsed": true
   },
   "outputs": [],
   "source": [
    "from matplotlib import pyplot as plt\n",
    "import numpy as np\n",
    "%matplotlib inline\n",
    "from ipywidgets import *"
   ]
  },
  {
   "cell_type": "markdown",
   "metadata": {},
   "source": [
    "Define some nonlinearities"
   ]
  },
  {
   "cell_type": "code",
   "execution_count": 2,
   "metadata": {
    "collapsed": true
   },
   "outputs": [],
   "source": [
    "def sigmoid(x):\n",
    "    return 1/(1+(np.exp(-x)))"
   ]
  },
  {
   "cell_type": "code",
   "execution_count": 3,
   "metadata": {
    "collapsed": true
   },
   "outputs": [],
   "source": [
    "def relu(x):\n",
    "    return (x > 0)*x"
   ]
  },
  {
   "cell_type": "markdown",
   "metadata": {},
   "source": [
    "For this notebook, we define our nonlinearity as $f := \\frac{1}{1+e^{-x}}$"
   ]
  },
  {
   "cell_type": "code",
   "execution_count": 4,
   "metadata": {
    "collapsed": true
   },
   "outputs": [],
   "source": [
    "f = sigmoid"
   ]
  },
  {
   "cell_type": "markdown",
   "metadata": {},
   "source": [
    "## One input, one output, one layer, width = 1\n",
    "\n",
    "### Forward\n",
    "\n",
    "This simplest case neural net has one input $x$ and one output $y$. In functional notation we have $ y = f(ax + b) $"
   ]
  },
  {
   "cell_type": "code",
   "execution_count": 5,
   "metadata": {
    "collapsed": true
   },
   "outputs": [],
   "source": [
    "def forward(a,b,x):\n",
    "    return f(a*x + b)"
   ]
  },
  {
   "cell_type": "code",
   "execution_count": 6,
   "metadata": {},
   "outputs": [
    {
     "data": {
      "text/plain": [
       "0.5024999791668749"
      ]
     },
     "execution_count": 6,
     "metadata": {},
     "output_type": "execute_result"
    }
   ],
   "source": [
    "forward(0.01, 0, 1)"
   ]
  },
  {
   "cell_type": "markdown",
   "metadata": {},
   "source": [
    "By training parameters a and b, this very simple neural network can nearly perfectly fit data from three types of functions. Step functions of the form $y = ax$, binary function of the form $y = a if, b if$, and logistic functions themselves, of the form $y = a f(x) + b$"
   ]
  },
  {
   "cell_type": "code",
   "execution_count": 7,
   "metadata": {},
   "outputs": [
    {
     "data": {
      "application/vnd.jupyter.widget-view+json": {
       "model_id": "ade365a09c1d44a0a1eea415ef51baef"
      }
     },
     "metadata": {},
     "output_type": "display_data"
    },
    {
     "data": {
      "text/plain": [
       "<function __main__.plt_one>"
      ]
     },
     "execution_count": 7,
     "metadata": {},
     "output_type": "execute_result"
    }
   ],
   "source": [
    "x = np.linspace(-10,10,100)\n",
    "\n",
    "def plt_one(a,b):\n",
    "    plt.scatter(x,forward(a,b,x), color=\"blue\")\n",
    "    plt.show()\n",
    "    \n",
    "interact(plt_one, a=(-10,10,0.1), b=(-10,10,0.1))"
   ]
  },
  {
   "cell_type": "code",
   "execution_count": 8,
   "metadata": {},
   "outputs": [
    {
     "data": {
      "text/plain": [
       "<matplotlib.collections.PathCollection at 0x108365490>"
      ]
     },
     "execution_count": 8,
     "metadata": {},
     "output_type": "execute_result"
    },
    {
     "data": {
      "image/png": "[encoded data removed]",
      "text/plain": [
       "<matplotlib.figure.Figure at 0x108627850>"
      ]
     },
     "metadata": {},
     "output_type": "display_data"
    }
   ],
   "source": [
    "plt.scatter(x,forward(1,0,x), color=\"blue\")\n",
    "plt.scatter(x,forward(0.1,0,x), color=\"red\")\n",
    "plt.scatter(x,forward(10,0,x), color=\"green\")"
   ]
  },
  {
   "cell_type": "markdown",
   "metadata": {},
   "source": [
    "### Step Function $( a >> 1 )$\n",
    "The step function occurs with relatively large $a$. That is, the $a$ parameter scales the input data to a much larger domain than the curved part of the logistic function.\n",
    "\n",
    "The location of the step function can be controlled by using the $b$ parameter. Notice that the $b$ parameter is scaled by the $a$ parameter, so in our case with $a=10$, $b=90$ the step will be placed at $x=9$.\n",
    "\n",
    "The direction of the step function is controlled by the sign of $a$."
   ]
  },
  {
   "cell_type": "code",
   "execution_count": 9,
   "metadata": {},
   "outputs": [
    {
     "data": {
      "image/png": "[encoded data removed]",
      "text/plain": [
       "<matplotlib.figure.Figure at 0x105d0e310>"
      ]
     },
     "metadata": {},
     "output_type": "display_data"
    },
    {
     "data": {
      "image/png": "[encoded data removed]",
      "text/plain": [
       "<matplotlib.figure.Figure at 0x106e41610>"
      ]
     },
     "metadata": {},
     "output_type": "display_data"
    },
    {
     "data": {
      "image/png": "[encoded data removed]",
      "text/plain": [
       "<matplotlib.figure.Figure at 0x106925fd0>"
      ]
     },
     "metadata": {},
     "output_type": "display_data"
    }
   ],
   "source": [
    "x = np.linspace(-10,10,100)\n",
    "plt.scatter(x,forward(10,-90,x), color=\"red\")\n",
    "plt.show()\n",
    "plt.scatter(x,forward(10,0,x), color=\"green\")\n",
    "plt.show()\n",
    "plt.scatter(x,forward(-10,0,x), color=\"blue\")\n",
    "plt.show()"
   ]
  },
  {
   "cell_type": "markdown",
   "metadata": {},
   "source": [
    "### Linear Function $( a << 1 )$\n",
    "\n",
    "The linear function occurs with relatively small $a$. That is, the $a$ parameter scales the input data to a much smaller domain than the curved part of the logistic function.\n",
    "\n",
    "The slope of the linear function can be somewhat controlled by setting the $b$ parameter. The direction of the slope can be controlled by the sign of the $a$ parameter."
   ]
  },
  {
   "cell_type": "code",
   "execution_count": 10,
   "metadata": {},
   "outputs": [
    {
     "data": {
      "image/png": "[encoded data removed]",
      "text/plain": [
       "<matplotlib.figure.Figure at 0x10775cad0>"
      ]
     },
     "metadata": {},
     "output_type": "display_data"
    },
    {
     "data": {
      "image/png": "[encoded data removed]",
      "text/plain": [
       "<matplotlib.figure.Figure at 0x106870210>"
      ]
     },
     "metadata": {},
     "output_type": "display_data"
    },
    {
     "data": {
      "image/png": "[encoded data removed]",
      "text/plain": [
       "<matplotlib.figure.Figure at 0x107388bd0>"
      ]
     },
     "metadata": {},
     "output_type": "display_data"
    }
   ],
   "source": [
    "x = np.linspace(-10,10,100)\n",
    "plt.scatter(x,forward(0.01,10,x), color=\"red\")\n",
    "plt.show()\n",
    "plt.scatter(x,forward(0.01,0,x), color=\"green\")\n",
    "plt.show()\n",
    "plt.scatter(x,forward(-0.01,0,x), color=\"blue\")\n",
    "plt.show()"
   ]
  },
  {
   "cell_type": "markdown",
   "metadata": {},
   "source": [
    "### Sigmoid Function $( a = 1 )$"
   ]
  },
  {
   "cell_type": "markdown",
   "metadata": {},
   "source": [
    "### Backprop"
   ]
  },
  {
   "cell_type": "markdown",
   "metadata": {},
   "source": [
    "## One input, one output, two layers, width = 1"
   ]
  },
  {
   "cell_type": "code",
   "execution_count": 9,
   "metadata": {
    "collapsed": true
   },
   "outputs": [],
   "source": [
    "def forward_2(a,b,x):\n",
    "    return f(a[1]*f(a[0]*x + b[0])+b[1])"
   ]
  },
  {
   "cell_type": "code",
   "execution_count": 10,
   "metadata": {},
   "outputs": [
    {
     "data": {
      "text/plain": [
       "<matplotlib.collections.PathCollection at 0x10895b210>"
      ]
     },
     "execution_count": 10,
     "metadata": {},
     "output_type": "execute_result"
    },
    {
     "data": {
      "image/png": "[encoded data removed]",
      "text/plain": [
       "<matplotlib.figure.Figure at 0x109050050>"
      ]
     },
     "metadata": {},
     "output_type": "display_data"
    }
   ],
   "source": [
    "x = np.linspace(-10,10,100)\n",
    "#plt.scatter(x,forward([1,1],[0,0],x), color=\"red\")\n",
    "plt.scatter(x,forward_2([1,-1],[-10,0],x), color=\"red\")"
   ]
  },
  {
   "cell_type": "markdown",
   "metadata": {},
   "source": [
    "## One input, one output, one layer, width = 2"
   ]
  },
  {
   "cell_type": "code",
   "execution_count": 13,
   "metadata": {
    "collapsed": true
   },
   "outputs": [],
   "source": [
    "def forward_1_2(a,b,x):\n",
    "    return f(a[0][0]*x + b[0][0]) + f(a[0][1]*x + b[0][1])"
   ]
  },
  {
   "cell_type": "code",
   "execution_count": null,
   "metadata": {
    "collapsed": true
   },
   "outputs": [],
   "source": []
  },
  {
   "cell_type": "code",
   "execution_count": 14,
   "metadata": {},
   "outputs": [
    {
     "data": {
      "text/plain": [
       "<matplotlib.collections.PathCollection at 0x106dcc4d0>"
      ]
     },
     "execution_count": 14,
     "metadata": {},
     "output_type": "execute_result"
    },
    {
     "data": {
      "image/png": "[encoded data removed]",
      "text/plain": [
       "<matplotlib.figure.Figure at 0x107361a10>"
      ]
     },
     "metadata": {},
     "output_type": "display_data"
    }
   ],
   "source": [
    "a = [[1,-2]]\n",
    "b = [[10,0]]\n",
    "x = np.linspace(-10,10,100)\n",
    "plt.scatter(x,forward_1_2(a,b,x), color=\"blue\")"
   ]
  },
  {
   "cell_type": "code",
   "execution_count": 12,
   "metadata": {},
   "outputs": [
    {
     "data": {
      "application/vnd.jupyter.widget-view+json": {
       "model_id": "02749f3d9ed74cbaad5b15cfe383c8ac"
      }
     },
     "metadata": {},
     "output_type": "display_data"
    },
    {
     "data": {
      "text/plain": [
       "<function __main__.plt_1_2>"
      ]
     },
     "execution_count": 12,
     "metadata": {},
     "output_type": "execute_result"
    }
   ],
   "source": [
    "x = np.linspace(-10,10,100)\n",
    "\n",
    "def forward_1_2(a,b,x):\n",
    "    return f(a[0][0]*x + b[0][0]) + f(a[0][1]*x + b[0][1])\n",
    "\n",
    "def plt_1_2(a1=1,b1=0,a2=1,b2=0):\n",
    "    plt.scatter(x,forward_1_2([[a1,a2]],[[b1,b2]],x), color=\"blue\")\n",
    "    plt.axis([-10,10,0,2])\n",
    "    plt.show()\n",
    "    \n",
    "interact(plt_1_2, a1=(-10,10,0.1), b1=(-10,10,0.1), a2=(-10,10,0.1), b2=(-10,10,0.1))"
   ]
  },
  {
   "cell_type": "markdown",
   "metadata": {},
   "source": [
    "## One input, one output, two layer, width = 1"
   ]
  },
  {
   "cell_type": "code",
   "execution_count": 11,
   "metadata": {},
   "outputs": [
    {
     "data": {
      "application/vnd.jupyter.widget-view+json": {
       "model_id": "163aad4e0de9424ea56a12ff9ddbc2c2"
      }
     },
     "metadata": {},
     "output_type": "display_data"
    },
    {
     "data": {
      "text/plain": [
       "<function __main__.plt_1_2>"
      ]
     },
     "execution_count": 11,
     "metadata": {},
     "output_type": "execute_result"
    }
   ],
   "source": [
    "x = np.linspace(-10,10,100)\n",
    "\n",
    "def forward_1_2(a,b,x):\n",
    "    return f(a[0][0]*(f(a[0][1]*x + b[0][1])) + b[0][0])\n",
    "\n",
    "def plt_1_2(a1=1,b1=0,a2=1,b2=0):\n",
    "    plt.scatter(x,forward_1_2([[a1,a2]],[[b1,b2]],x), color=\"blue\")\n",
    "    plt.axis([-10,10,0,1])\n",
    "    plt.show()\n",
    "    \n",
    "interact(plt_1_2, a1=(-10,10,0.1), b1=(-10,10,0.1), a2=(-10,10,0.1), b2=(-10,10,0.1))"
   ]
  },
  {
   "cell_type": "code",
   "execution_count": null,
   "metadata": {
    "collapsed": true
   },
   "outputs": [],
   "source": []
  }
 ],
 "metadata": {
  "anaconda-cloud": {},
  "kernelspec": {
   "display_name": "Python 2",
   "language": "python",
   "name": "python2"
  },
  "language_info": {
   "codemirror_mode": {
    "name": "ipython",
    "version": 2
   },
   "file_extension": ".py",
   "mimetype": "text/x-python",
   "name": "python",
   "nbconvert_exporter": "python",
   "pygments_lexer": "ipython2",
   "version": "2.7.13"
  },
  "widgets": {
   "state": {
    "39f0460d3d734a159d3bccd00b28fd18": {
     "views": [
      {
       "cell_index": 25
      }
     ]
    },
    "4a6625a571f74fa7bb75a1b8903939a6": {
     "views": [
      {
       "cell_index": 10
      }
     ]
    },
    "c958d9ba656a4968addf96ad79b7e519": {
     "views": [
      {
       "cell_index": 27
      }
     ]
    }
   },
   "version": "1.2.0"
  }
 },
 "nbformat": 4,
 "nbformat_minor": 1
}
